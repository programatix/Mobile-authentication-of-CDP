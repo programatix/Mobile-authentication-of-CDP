{
  "nbformat": 4,
  "nbformat_minor": 0,
  "metadata": {
    "colab": {
      "provenance": [],
      "mount_file_id": "14vRFznfeqAertofnw_ByJKIjfCY9e3o2",
      "authorship_tag": "ABX9TyNckRF9/Ma3xmZ+3RZAz/IX",
      "include_colab_link": true
    },
    "kernelspec": {
      "name": "python3",
      "display_name": "Python 3"
    },
    "language_info": {
      "name": "python"
    }
  },
  "cells": [
    {
      "cell_type": "markdown",
      "metadata": {
        "id": "view-in-github",
        "colab_type": "text"
      },
      "source": [
        "<a href=\"https://colab.research.google.com/github/programatix/Mobile-authentication-of-CDP/blob/main/Untitled0.ipynb\" target=\"_parent\"><img src=\"https://colab.research.google.com/assets/colab-badge.svg\" alt=\"Open In Colab\"/></a>"
      ]
    },
    {
      "cell_type": "code",
      "source": [],
      "metadata": {
        "id": "2m6OP15Bnbjd"
      },
      "execution_count": null,
      "outputs": []
    }
  ]
}